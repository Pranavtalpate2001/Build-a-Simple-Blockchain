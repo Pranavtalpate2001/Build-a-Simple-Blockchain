{
 "cells": [
  {
   "cell_type": "code",
   "execution_count": 12,
   "id": "06668cd9",
   "metadata": {},
   "outputs": [],
   "source": [
    "import hashlib\n",
    "import time"
   ]
  },
  {
   "cell_type": "code",
   "execution_count": 13,
   "id": "07140fc2",
   "metadata": {},
   "outputs": [],
   "source": [
    "class Block:\n",
    "    def __init__(self, index, previous_hash, transactions, nonce=0):\n",
    "        self.index = index\n",
    "        self.timestamp = time.time()\n",
    "        self.transactions = transactions\n",
    "        self.previous_hash = previous_hash\n",
    "        self.nonce = nonce\n",
    "        self.hash = self.calculate_hash()\n",
    "\n",
    "    def calculate_hash(self):\n",
    "        data = f\"{self.index}{self.timestamp}{self.transactions}{self.previous_hash}{self.nonce}\"\n",
    "        return hashlib.sha256(data.encode()).hexdigest()\n",
    "\n",
    "    def mine_block(self, difficulty):\n",
    "        \"\"\"Basic Proof-of-Work: Find a hash that starts with '0' * difficulty\"\"\"\n",
    "        while self.hash[:difficulty] != \"0\" * difficulty:\n",
    "            self.nonce += 1\n",
    "            self.hash = self.calculate_hash()\n",
    "        print(f\"Block {self.index} mined: {self.hash}\")"
   ]
  },
  {
   "cell_type": "code",
   "execution_count": 14,
   "id": "fe04fe31",
   "metadata": {},
   "outputs": [],
   "source": [
    "class Blockchain:\n",
    "    def __init__(self, difficulty=2):\n",
    "        self.chain = [self.create_genesis_block()]\n",
    "        self.difficulty = difficulty\n",
    "\n",
    "    def create_genesis_block(self):\n",
    "        return Block(0, \"0\", \"Genesis Block\")\n",
    "\n",
    "    def get_latest_block(self):\n",
    "        return self.chain[-1]\n",
    "\n",
    "    def add_block(self, transactions):\n",
    "        previous_block = self.get_latest_block()\n",
    "        new_block = Block(len(self.chain), previous_block.hash, transactions)\n",
    "        new_block.mine_block(self.difficulty)\n",
    "        self.chain.append(new_block)\n",
    "\n",
    "    def is_chain_valid(self):\n",
    "        for i in range(1, len(self.chain)):\n",
    "            current_block = self.chain[i]\n",
    "            previous_block = self.chain[i - 1]\n",
    "\n",
    "            if current_block.hash != current_block.calculate_hash():\n",
    "                print(f\"Block {current_block.index} has been tampered!\")\n",
    "                return False\n",
    "            if current_block.previous_hash != previous_block.hash:\n",
    "                print(f\"Block {current_block.index} has an incorrect previous hash!\")\n",
    "                return False\n",
    "        return True\n",
    "\n",
    "    def tamper_with_block(self, index, new_transactions):\n",
    "        if 0 < index < len(self.chain):\n",
    "            self.chain[index].transactions = new_transactions\n",
    "            self.chain[index].hash = self.chain[index].calculate_hash()\n",
    "\n",
    "    def print_chain(self):\n",
    "        for block in self.chain:\n",
    "            print(block)\n"
   ]
  },
  {
   "cell_type": "code",
   "execution_count": 15,
   "id": "59290e13",
   "metadata": {},
   "outputs": [
    {
     "name": "stdout",
     "output_type": "stream",
     "text": [
      "Block 1 mined: 000e1b9d31e537dfeeef5ebab75cc1e22dcfe196da8a72f914ee27cec3bffe79\n",
      "Block 2 mined: 0009cffcff46963d3a03507f64c9a98a11e64de2435c8240a352c55cb8f50765\n",
      "<__main__.Block object at 0x000002B102B6BE90>\n",
      "<__main__.Block object at 0x000002B1027B67D0>\n",
      "<__main__.Block object at 0x000002B10278D910>\n",
      "Is blockchain valid? True\n"
     ]
    }
   ],
   "source": [
    "# Create Blockchain\n",
    "blockchain = Blockchain(difficulty=3)\n",
    "\n",
    "# Add Blocks\n",
    "blockchain.add_block(\"Transaction 1\")\n",
    "blockchain.add_block(\"Transaction 2\")\n",
    "\n",
    "# Print Blockchain\n",
    "blockchain.print_chain()\n",
    "\n",
    "# Check if Blockchain is Valid\n",
    "print(\"Is blockchain valid?\", blockchain.is_chain_valid())"
   ]
  },
  {
   "cell_type": "code",
   "execution_count": 16,
   "id": "66a39384",
   "metadata": {},
   "outputs": [
    {
     "name": "stdout",
     "output_type": "stream",
     "text": [
      "\n",
      "After tampering:\n",
      "<__main__.Block object at 0x000002B102B6BE90>\n",
      "<__main__.Block object at 0x000002B1027B67D0>\n",
      "<__main__.Block object at 0x000002B10278D910>\n",
      "Block 2 has an incorrect previous hash!\n",
      "Is blockchain valid? False\n"
     ]
    }
   ],
   "source": [
    "# Tamper with Blockchain\n",
    "blockchain.tamper_with_block(1, \"Tampered Transaction\")\n",
    "\n",
    "print(\"\\nAfter tampering:\")\n",
    "blockchain.print_chain()\n",
    "\n",
    "# Check Blockchain Integrity Again\n",
    "print(\"Is blockchain valid?\", blockchain.is_chain_valid())\n"
   ]
  },
  {
   "cell_type": "markdown",
   "id": "e903e068",
   "metadata": {},
   "source": [
    "# Matplotlib Blockchain Visualization"
   ]
  },
  {
   "cell_type": "code",
   "execution_count": 18,
   "id": "85f65474",
   "metadata": {},
   "outputs": [
    {
     "name": "stdout",
     "output_type": "stream",
     "text": [
      "Requirement already satisfied: networkx in c:\\users\\madhuri\\anaconda3\\lib\\site-packages (3.1)\n",
      "Requirement already satisfied: matplotlib in c:\\users\\madhuri\\anaconda3\\lib\\site-packages (3.7.2)\n",
      "Requirement already satisfied: contourpy>=1.0.1 in c:\\users\\madhuri\\anaconda3\\lib\\site-packages (from matplotlib) (1.0.5)\n",
      "Requirement already satisfied: cycler>=0.10 in c:\\users\\madhuri\\anaconda3\\lib\\site-packages (from matplotlib) (0.11.0)\n",
      "Requirement already satisfied: fonttools>=4.22.0 in c:\\users\\madhuri\\anaconda3\\lib\\site-packages (from matplotlib) (4.25.0)\n",
      "Requirement already satisfied: kiwisolver>=1.0.1 in c:\\users\\madhuri\\anaconda3\\lib\\site-packages (from matplotlib) (1.4.4)\n",
      "Requirement already satisfied: numpy>=1.20 in c:\\users\\madhuri\\anaconda3\\lib\\site-packages (from matplotlib) (1.24.3)\n",
      "Requirement already satisfied: packaging>=20.0 in c:\\users\\madhuri\\anaconda3\\lib\\site-packages (from matplotlib) (23.1)\n",
      "Requirement already satisfied: pillow>=6.2.0 in c:\\users\\madhuri\\anaconda3\\lib\\site-packages (from matplotlib) (9.4.0)\n",
      "Requirement already satisfied: pyparsing<3.1,>=2.3.1 in c:\\users\\madhuri\\anaconda3\\lib\\site-packages (from matplotlib) (3.0.9)\n",
      "Requirement already satisfied: python-dateutil>=2.7 in c:\\users\\madhuri\\anaconda3\\lib\\site-packages (from matplotlib) (2.8.2)\n",
      "Requirement already satisfied: six>=1.5 in c:\\users\\madhuri\\anaconda3\\lib\\site-packages (from python-dateutil>=2.7->matplotlib) (1.16.0)\n"
     ]
    }
   ],
   "source": [
    "!pip install networkx matplotlib\n"
   ]
  },
  {
   "cell_type": "code",
   "execution_count": 19,
   "id": "501522b3",
   "metadata": {},
   "outputs": [
    {
     "name": "stdout",
     "output_type": "stream",
     "text": [
      "Block 1 mined: 0087bdafa906b7410b301c9a317d27d5b13af9aeaee1948b02b02010ddb138d8\n",
      "Block 2 mined: 00c8a9cba4be1d9372590202f811f8df9a20fd5f300d406caebdef5bdb6248ec\n"
     ]
    },
    {
     "name": "stderr",
     "output_type": "stream",
     "text": [
      "C:\\Users\\Madhuri\\anaconda3\\Lib\\site-packages\\IPython\\core\\pylabtools.py:152: UserWarning: Glyph 128279 (\\N{LINK SYMBOL}) missing from current font.\n",
      "  fig.canvas.print_figure(bytes_io, **kw)\n"
     ]
    },
    {
     "data": {
      "image/png": "[encoded data removed]",
      "text/plain": [
       "<Figure size 800x500 with 1 Axes>"
      ]
     },
     "metadata": {},
     "output_type": "display_data"
    }
   ],
   "source": [
    "import networkx as nx\n",
    "import matplotlib.pyplot as plt\n",
    "\n",
    "def visualize_blockchain(blockchain):\n",
    "    \"\"\"Visualizes the blockchain as a connected graph.\"\"\"\n",
    "    G = nx.DiGraph()\n",
    "    \n",
    "    for block in blockchain.chain:\n",
    "        G.add_node(block.index, label=f\"Block {block.index}\\nHash: {block.hash[:8]}\")\n",
    "\n",
    "    for i in range(1, len(blockchain.chain)):\n",
    "        G.add_edge(blockchain.chain[i - 1].index, blockchain.chain[i].index)\n",
    "    \n",
    "    plt.figure(figsize=(8, 5))\n",
    "    pos = nx.spring_layout(G)\n",
    "    labels = nx.get_node_attributes(G, 'label')\n",
    "    \n",
    "    nx.draw(G, pos, with_labels=True, labels=labels, node_color=\"skyblue\", edge_color=\"gray\", node_size=3000, font_size=10)\n",
    "    plt.title(\"🔗 Blockchain Visualization\")\n",
    "    plt.show()\n",
    "\n",
    "# Run the blockchain and visualize\n",
    "blockchain = Blockchain(difficulty=2)\n",
    "blockchain.add_block(\"User A -> User B: $100\")\n",
    "blockchain.add_block(\"User C -> User D: $50\")\n",
    "\n",
    "visualize_blockchain(blockchain)\n"
   ]
  },
  {
   "cell_type": "markdown",
   "id": "a6fbc431",
   "metadata": {},
   "source": [
    "## Interactive CLI Simulation (Basic)\n",
    "     Add User Input to Control the Blockchain"
   ]
  },
  {
   "cell_type": "code",
   "execution_count": null,
   "id": "30624154",
   "metadata": {},
   "outputs": [],
   "source": [
    "import hashlib\n",
    "import time\n",
    "\n",
    "class Block:\n",
    "    def __init__(self, index, previous_hash, transactions, nonce=0):\n",
    "        self.index = index\n",
    "        self.timestamp = time.time()\n",
    "        self.transactions = transactions\n",
    "        self.previous_hash = previous_hash\n",
    "        self.nonce = nonce\n",
    "        self.hash = self.calculate_hash()\n",
    "\n",
    "    def calculate_hash(self):\n",
    "        data = f\"{self.index}{self.timestamp}{self.transactions}{self.previous_hash}{self.nonce}\"\n",
    "        return hashlib.sha256(data.encode()).hexdigest()\n",
    "\n",
    "    def mine_block(self, difficulty):\n",
    "        \"\"\"Proof-of-Work: Hash must start with '0' * difficulty\"\"\"\n",
    "        while self.hash[:difficulty] != \"0\" * difficulty:\n",
    "            self.nonce += 1\n",
    "            self.hash = self.calculate_hash()\n",
    "        print(f\"✅ Block {self.index} mined: {self.hash}\")\n",
    "\n",
    "class Blockchain:\n",
    "    def __init__(self, difficulty=2):\n",
    "        self.chain = [self.create_genesis_block()]\n",
    "        self.difficulty = difficulty\n",
    "\n",
    "    def create_genesis_block(self):\n",
    "        return Block(0, \"0\", \"Genesis Block\")\n",
    "\n",
    "    def get_latest_block(self):\n",
    "        return self.chain[-1]\n",
    "\n",
    "    def add_block(self, transactions):\n",
    "        \"\"\"Creates, mines, and adds a new block\"\"\"\n",
    "        previous_block = self.get_latest_block()\n",
    "        new_block = Block(len(self.chain), previous_block.hash, transactions)\n",
    "        new_block.mine_block(self.difficulty)\n",
    "        self.chain.append(new_block)\n",
    "        print(f\"✅ Block {new_block.index} added!\")\n",
    "\n",
    "    def print_chain(self):\n",
    "        \"\"\"Prints the blockchain with links\"\"\"\n",
    "        for block in self.chain:\n",
    "            print(f\"🟦 Block {block.index} - Hash: {block.hash[:10]}... - Transactions: {block.transactions}\")\n",
    "\n",
    "    def is_chain_valid(self):\n",
    "        \"\"\"Validates blockchain integrity\"\"\"\n",
    "        for i in range(1, len(self.chain)):\n",
    "            current = self.chain[i]\n",
    "            previous = self.chain[i - 1]\n",
    "\n",
    "            if current.hash != current.calculate_hash():\n",
    "                print(f\"❌ Block {current.index} has been tampered!\")\n",
    "                return False\n",
    "            if current.previous_hash != previous.hash:\n",
    "                print(f\"❌ Block {current.index} has an incorrect previous hash!\")\n",
    "                return False\n",
    "        return True\n",
    "\n",
    "    def tamper_with_block(self, index, new_transactions):\n",
    "        \"\"\"Tamper a block to show blockchain security\"\"\"\n",
    "        if 0 < index < len(self.chain):\n",
    "            self.chain[index].transactions = new_transactions\n",
    "            self.chain[index].hash = self.chain[index].calculate_hash()\n",
    "            print(f\"⚠️ Block {index} tampered!\")\n",
    "\n",
    "# Run the interactive simulation\n",
    "blockchain = Blockchain(difficulty=3)\n",
    "\n",
    "while True:\n",
    "    print(\"\\n📌 Blockchain Menu:\")\n",
    "    print(\"1️⃣ Add Block\")\n",
    "    print(\"2️⃣ Print Blockchain\")\n",
    "    print(\"3️⃣ Validate Blockchain\")\n",
    "    print(\"4️⃣ Tamper with Blockchain\")\n",
    "    print(\"5️⃣ Exit\")\n",
    "    \n",
    "    choice = input(\"Choose an option: \")\n",
    "    \n",
    "    if choice == \"1\":\n",
    "        txn = input(\"Enter transaction details: \")\n",
    "        blockchain.add_block(txn)\n",
    "    elif choice == \"2\":\n",
    "        blockchain.print_chain()\n",
    "    elif choice == \"3\":\n",
    "        print(\"✅ Blockchain Valid!\" if blockchain.is_chain_valid() else \"❌ Blockchain is Corrupt!\")\n",
    "    elif choice == \"4\":\n",
    "        blk = int(input(\"Enter block index to tamper: \"))\n",
    "        new_txn = input(\"Enter fake transaction: \")\n",
    "        blockchain.tamper_with_block(blk, new_txn)\n",
    "    elif choice == \"5\":\n",
    "        print(\"🔻 Exiting simulation.\")\n",
    "        break\n",
    "    else:\n",
    "        print(\"❌ Invalid choice! Try again.\")\n"
   ]
  }
 ],
 "metadata": {
  "kernelspec": {
   "display_name": "Python 3 (ipykernel)",
   "language": "python",
   "name": "python3"
  },
  "language_info": {
   "codemirror_mode": {
    "name": "ipython",
    "version": 3
   },
   "file_extension": ".py",
   "mimetype": "text/x-python",
   "name": "python",
   "nbconvert_exporter": "python",
   "pygments_lexer": "ipython3",
   "version": "3.11.5"
  }
 },
 "nbformat": 4,
 "nbformat_minor": 5
}
